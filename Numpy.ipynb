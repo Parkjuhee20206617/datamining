{
  "nbformat": 4,
  "nbformat_minor": 0,
  "metadata": {
    "colab": {
      "provenance": []
    },
    "kernelspec": {
      "name": "python3",
      "display_name": "Python 3"
    },
    "language_info": {
      "name": "python"
    }
  },
  "cells": [
    {
      "cell_type": "code",
      "execution_count": null,
      "metadata": {
        "colab": {
          "base_uri": "https://localhost:8080/"
        },
        "id": "Q6clIIxyULDa",
        "outputId": "8bc05bc1-6b7c-4f29-e8ec-222d2c1c0d3a"
      },
      "outputs": [
        {
          "output_type": "stream",
          "name": "stdout",
          "text": [
            "/content\n"
          ]
        }
      ],
      "source": [
        "!pwd"
      ]
    },
    {
      "cell_type": "code",
      "source": [
        "cd drive/MyDrive"
      ],
      "metadata": {
        "colab": {
          "base_uri": "https://localhost:8080/"
        },
        "id": "rszhCoRZUXpN",
        "outputId": "6fd3b7a7-1d04-45f3-beac-71fddbe43ac7"
      },
      "execution_count": null,
      "outputs": [
        {
          "output_type": "stream",
          "name": "stdout",
          "text": [
            "/content/drive/MyDrive\n"
          ]
        }
      ]
    },
    {
      "cell_type": "code",
      "source": [
        "pwd"
      ],
      "metadata": {
        "colab": {
          "base_uri": "https://localhost:8080/",
          "height": 35
        },
        "id": "iwJmhOQFVmvv",
        "outputId": "1aabc475-8cd3-49d0-a354-a4f81c48b929"
      },
      "execution_count": null,
      "outputs": [
        {
          "output_type": "execute_result",
          "data": {
            "text/plain": [
              "'/content/drive/MyDrive'"
            ],
            "application/vnd.google.colaboratory.intrinsic+json": {
              "type": "string"
            }
          },
          "metadata": {},
          "execution_count": 3
        }
      ]
    },
    {
      "cell_type": "code",
      "source": [
        "import numpy as np\n",
        "import seaborn as sns\n",
        "import matplotlib.pyplot as plt"
      ],
      "metadata": {
        "id": "xKRpHhLgV4w1"
      },
      "execution_count": null,
      "outputs": []
    },
    {
      "cell_type": "markdown",
      "source": [
        "# numpy"
      ],
      "metadata": {
        "id": "VjSh7fatp2kA"
      }
    },
    {
      "cell_type": "code",
      "source": [
        "arr = np.arange(10)\n",
        "arr"
      ],
      "metadata": {
        "colab": {
          "base_uri": "https://localhost:8080/"
        },
        "id": "mgqJHLVWW5Bk",
        "outputId": "20510953-d019-437d-b6e6-e008d059124c"
      },
      "execution_count": null,
      "outputs": [
        {
          "output_type": "execute_result",
          "data": {
            "text/plain": [
              "array([0, 1, 2, 3, 4, 5, 6, 7, 8, 9])"
            ]
          },
          "metadata": {},
          "execution_count": 3
        }
      ]
    },
    {
      "cell_type": "code",
      "source": [
        "arr.shape, arr.ndim, arr.dtype, arr.itemsize, arr.size\n",
        "# 형상, 차원, 자료형, 크기, 개수"
      ],
      "metadata": {
        "colab": {
          "base_uri": "https://localhost:8080/"
        },
        "id": "956hqRBauc9i",
        "outputId": "f4c82458-a6e9-4faf-ee6d-76a13e68ae24"
      },
      "execution_count": null,
      "outputs": [
        {
          "output_type": "execute_result",
          "data": {
            "text/plain": [
              "((10,), 1, dtype('int64'), 8, 10)"
            ]
          },
          "metadata": {},
          "execution_count": 5
        }
      ]
    },
    {
      "cell_type": "code",
      "source": [
        "a= np.array([10,20,30])\n",
        "a *10 #스칼라를 벡터로 확장(브로드캐스팅)"
      ],
      "metadata": {
        "colab": {
          "base_uri": "https://localhost:8080/"
        },
        "id": "auf95pWwTqLo",
        "outputId": "b2ca0f46-749f-416d-8f37-e8d3c2c0c45d"
      },
      "execution_count": null,
      "outputs": [
        {
          "output_type": "execute_result",
          "data": {
            "text/plain": [
              "array([100, 200, 300])"
            ]
          },
          "metadata": {},
          "execution_count": 2
        }
      ]
    },
    {
      "cell_type": "code",
      "source": [
        "np.zeros((2,3))"
      ],
      "metadata": {
        "colab": {
          "base_uri": "https://localhost:8080/"
        },
        "id": "i-QXsXb2UDkL",
        "outputId": "e366285e-c66c-4a2e-c32b-dc057cb0ad9e"
      },
      "execution_count": null,
      "outputs": [
        {
          "output_type": "execute_result",
          "data": {
            "text/plain": [
              "array([[0., 0., 0.],\n",
              "       [0., 0., 0.]])"
            ]
          },
          "metadata": {},
          "execution_count": 3
        }
      ]
    },
    {
      "cell_type": "code",
      "source": [
        "np.ones((2,3))"
      ],
      "metadata": {
        "colab": {
          "base_uri": "https://localhost:8080/"
        },
        "id": "l2t1K9DDUG7N",
        "outputId": "3cf0ae37-0516-4d7f-e98c-c1c9e1c3c06d"
      },
      "execution_count": null,
      "outputs": [
        {
          "output_type": "execute_result",
          "data": {
            "text/plain": [
              "array([[1., 1., 1.],\n",
              "       [1., 1., 1.]])"
            ]
          },
          "metadata": {},
          "execution_count": 5
        }
      ]
    },
    {
      "cell_type": "code",
      "source": [
        "a= np.full((3,3),True, dtype=bool) # 초기값 지정\n",
        "a"
      ],
      "metadata": {
        "colab": {
          "base_uri": "https://localhost:8080/"
        },
        "id": "khdktSfUW_jz",
        "outputId": "fcf4124f-7cc7-42d4-b074-106770c3eefd"
      },
      "execution_count": null,
      "outputs": [
        {
          "output_type": "execute_result",
          "data": {
            "text/plain": [
              "array([[ True,  True,  True],\n",
              "       [ True,  True,  True],\n",
              "       [ True,  True,  True]])"
            ]
          },
          "metadata": {},
          "execution_count": 10
        }
      ]
    },
    {
      "cell_type": "code",
      "source": [
        "#연습문제\n",
        "b = np.eye(4)*10 # 대각선분이 1 나머지 0\n",
        "b"
      ],
      "metadata": {
        "colab": {
          "base_uri": "https://localhost:8080/"
        },
        "id": "aBTjLYuZa81o",
        "outputId": "7aada9ec-4045-47e0-849e-cb763675d736"
      },
      "execution_count": null,
      "outputs": [
        {
          "output_type": "execute_result",
          "data": {
            "text/plain": [
              "array([[10.,  0.,  0.,  0.],\n",
              "       [ 0., 10.,  0.,  0.],\n",
              "       [ 0.,  0., 10.,  0.],\n",
              "       [ 0.,  0.,  0., 10.]])"
            ]
          },
          "metadata": {},
          "execution_count": 26
        }
      ]
    },
    {
      "cell_type": "code",
      "source": [],
      "metadata": {
        "id": "iL1equwsUG-H"
      },
      "execution_count": null,
      "outputs": []
    },
    {
      "cell_type": "code",
      "source": [
        "arr = np.arange(1,10,2)\n",
        "# arr\n",
        "arr[arr%2 ==1]"
      ],
      "metadata": {
        "colab": {
          "base_uri": "https://localhost:8080/"
        },
        "id": "zvZRf8PHXkoj",
        "outputId": "4f851779-b486-4283-fc86-dece7cc40e89"
      },
      "execution_count": null,
      "outputs": [
        {
          "output_type": "execute_result",
          "data": {
            "text/plain": [
              "array([1, 3, 5, 7, 9])"
            ]
          },
          "metadata": {},
          "execution_count": 7
        }
      ]
    },
    {
      "cell_type": "code",
      "source": [
        "arr[arr%2 ==1] = -1 #홀수를 모두 -1로\n",
        "arr"
      ],
      "metadata": {
        "colab": {
          "base_uri": "https://localhost:8080/"
        },
        "id": "6RA8QmlGYa4N",
        "outputId": "16fb7270-13f4-4912-91f3-8c31ef4a1fdd"
      },
      "execution_count": null,
      "outputs": [
        {
          "output_type": "execute_result",
          "data": {
            "text/plain": [
              "array([ 0, -1,  2, -1,  4, -1,  6, -1,  8, -1])"
            ]
          },
          "metadata": {},
          "execution_count": 13
        }
      ]
    },
    {
      "cell_type": "code",
      "source": [
        "arr = np.arange(10)\n",
        "output = np.where(arr%2==1, -1, arr) # 홀수를 -1로 변경\n",
        "output"
      ],
      "metadata": {
        "colab": {
          "base_uri": "https://localhost:8080/"
        },
        "id": "GUPkl4GPZJDK",
        "outputId": "a8fac37a-1d9f-476a-e072-5cce456df31e"
      },
      "execution_count": null,
      "outputs": [
        {
          "output_type": "execute_result",
          "data": {
            "text/plain": [
              "array([ 0, -1,  2, -1,  4, -1,  6, -1,  8, -1])"
            ]
          },
          "metadata": {},
          "execution_count": 8
        }
      ]
    },
    {
      "cell_type": "code",
      "source": [
        "arr.reshape(2,5)"
      ],
      "metadata": {
        "colab": {
          "base_uri": "https://localhost:8080/"
        },
        "id": "ieQSexR-adPb",
        "outputId": "895b3e2d-bbff-42f3-d151-f036faa146ed"
      },
      "execution_count": null,
      "outputs": [
        {
          "output_type": "execute_result",
          "data": {
            "text/plain": [
              "array([[0, 1, 2, 3, 4],\n",
              "       [5, 6, 7, 8, 9]])"
            ]
          },
          "metadata": {},
          "execution_count": 9
        }
      ]
    },
    {
      "cell_type": "code",
      "source": [
        "np.linspace(0,10,5)"
      ],
      "metadata": {
        "colab": {
          "base_uri": "https://localhost:8080/"
        },
        "id": "x3YcqOoAUpU4",
        "outputId": "2fbe11e4-9346-4473-b49e-1d5589e6000f"
      },
      "execution_count": null,
      "outputs": [
        {
          "output_type": "execute_result",
          "data": {
            "text/plain": [
              "array([ 0. ,  2.5,  5. ,  7.5, 10. ])"
            ]
          },
          "metadata": {},
          "execution_count": 10
        }
      ]
    },
    {
      "cell_type": "code",
      "source": [
        "#연습문제\n",
        "b= np.array([[1,1],[2,2],[3,3]])\n",
        "np.insert(b,1,[4,4,4],axis=1) # 인덱스 1번 자리에 axis=1 방향으로 넣기"
      ],
      "metadata": {
        "colab": {
          "base_uri": "https://localhost:8080/"
        },
        "id": "RNmU7K4Fa757",
        "outputId": "161b8a50-4de5-41f1-972b-2a58547f0942"
      },
      "execution_count": null,
      "outputs": [
        {
          "output_type": "execute_result",
          "data": {
            "text/plain": [
              "array([[1, 4, 1],\n",
              "       [2, 4, 2],\n",
              "       [3, 4, 3]])"
            ]
          },
          "metadata": {},
          "execution_count": 11
        }
      ]
    },
    {
      "cell_type": "code",
      "source": [
        "str_a = [20,30,40]\n",
        "str_b=[70,80,90]\n",
        "list_sum = str_a+str_b  #리스트는 배열을 연결해줌줌\n",
        "list_sum"
      ],
      "metadata": {
        "colab": {
          "base_uri": "https://localhost:8080/"
        },
        "id": "ERHaNXyDV2QY",
        "outputId": "40b46585-2b78-4c5b-c61b-243522ca5a7c"
      },
      "execution_count": null,
      "outputs": [
        {
          "output_type": "execute_result",
          "data": {
            "text/plain": [
              "[20, 30, 40, 70, 80, 90]"
            ]
          },
          "metadata": {},
          "execution_count": 14
        }
      ]
    },
    {
      "cell_type": "code",
      "source": [
        "d = np.array([[35,24,55],\n",
        "              [69,19,9]])\n",
        "d.flatten() #2차원을 1차원으로 변환"
      ],
      "metadata": {
        "colab": {
          "base_uri": "https://localhost:8080/"
        },
        "id": "SLDnzYr2WJzt",
        "outputId": "42933f46-6d60-43ab-effa-d1fda8184448"
      },
      "execution_count": null,
      "outputs": [
        {
          "output_type": "execute_result",
          "data": {
            "text/plain": [
              "array([35, 24, 55, 69, 19,  9])"
            ]
          },
          "metadata": {},
          "execution_count": 15
        }
      ]
    },
    {
      "cell_type": "code",
      "source": [
        "d = np.array([35,24,55])\n",
        "d.sort() #오름\n",
        "d[::-1] #내림"
      ],
      "metadata": {
        "colab": {
          "base_uri": "https://localhost:8080/"
        },
        "id": "kHhDyeNsWZPd",
        "outputId": "5d0d0738-14e5-4e5f-e67a-dfa5b5489fc3"
      },
      "execution_count": null,
      "outputs": [
        {
          "output_type": "execute_result",
          "data": {
            "text/plain": [
              "array([55, 35, 24])"
            ]
          },
          "metadata": {},
          "execution_count": 19
        }
      ]
    },
    {
      "cell_type": "code",
      "source": [
        "#연습문제\n",
        "d = np.array([[35,24,55],\n",
        "              [69,19,9],\n",
        "              [4,1,11]])\n",
        "d.sort(axis=0) #열을 오름차순(세로)\n",
        "np.flip(d,axis=0) #열을 뒤집기"
      ],
      "metadata": {
        "colab": {
          "base_uri": "https://localhost:8080/"
        },
        "id": "y5Ay6NIybwoV",
        "outputId": "b731486c-b6a8-4ac7-d109-8e51e473c9a2"
      },
      "execution_count": null,
      "outputs": [
        {
          "output_type": "execute_result",
          "data": {
            "text/plain": [
              "array([[69, 24, 55],\n",
              "       [35, 19, 11],\n",
              "       [ 4,  1,  9]])"
            ]
          },
          "metadata": {},
          "execution_count": 34
        }
      ]
    },
    {
      "cell_type": "code",
      "source": [
        "#연습문제\n",
        "d = np.array([[35,24,55],\n",
        "              [69,19,9],\n",
        "              [4,1,11]])\n",
        "d.sort(axis=1) # 행을 오름차순(가로)\n",
        "np.flip(d,axis=1) #행을 뒤집기"
      ],
      "metadata": {
        "colab": {
          "base_uri": "https://localhost:8080/"
        },
        "id": "N4NimlBEc1SI",
        "outputId": "63280d86-c648-4588-e929-e55363ec2bd0"
      },
      "execution_count": null,
      "outputs": [
        {
          "output_type": "execute_result",
          "data": {
            "text/plain": [
              "array([[55, 35, 24],\n",
              "       [69, 19,  9],\n",
              "       [11,  4,  1]])"
            ]
          },
          "metadata": {},
          "execution_count": 33
        }
      ]
    },
    {
      "cell_type": "code",
      "source": [
        "#연습문제\n",
        "a = np.arange(1,10).reshape(3,3)\n",
        "a"
      ],
      "metadata": {
        "colab": {
          "base_uri": "https://localhost:8080/"
        },
        "id": "GYOKoXVcytUH",
        "outputId": "9c8399ef-5499-4f7f-bc73-a9a84a37a632"
      },
      "execution_count": null,
      "outputs": [
        {
          "output_type": "execute_result",
          "data": {
            "text/plain": [
              "array([[1, 2, 3],\n",
              "       [4, 5, 6],\n",
              "       [7, 8, 9]])"
            ]
          },
          "metadata": {},
          "execution_count": 7
        }
      ]
    },
    {
      "cell_type": "code",
      "source": [
        "#도전문제(난수)\n",
        "#np.random.seed(42) 매번 동일한 난수의 열 얻음\n",
        "def train_test_split(t):\n",
        "  np.random.shuffle(t) #뒤섞은 값\n",
        "  r= int(t.size * 0.8)\n",
        "  train_data = t[:r] # 80%\n",
        "  test_data = t[r:] # 20%\n",
        "  return train_data, test_data\n",
        "\n",
        "a= np.arange(1,51)\n",
        "train_d, test_d = train_test_split(a)\n",
        "print(\"train_data=\", train_d)\n",
        "print(\"test_data=\", test_d)"
      ],
      "metadata": {
        "colab": {
          "base_uri": "https://localhost:8080/"
        },
        "id": "e0vqHz54nenB",
        "outputId": "7ce190bb-e18a-46f1-bb5c-8537766b77b4"
      },
      "execution_count": null,
      "outputs": [
        {
          "output_type": "stream",
          "name": "stdout",
          "text": [
            "train_data= [19  5  1 20 44 14 42 36  4 34 25 41 32 45 15 21  9  8 46  7 17 37 26 33\n",
            " 18 11 48 31 35 50 43  3 47  2 28 30 13 12 40  6]\n",
            "test_data= [22 10 24 16 29 49 38 27 23 39]\n"
          ]
        }
      ]
    },
    {
      "cell_type": "code",
      "source": [
        "a = [0,1,2,3,4,5]\n",
        "a[::] #전체\n",
        "a[4:2:-1]"
      ],
      "metadata": {
        "id": "XVo86MiNngtO",
        "colab": {
          "base_uri": "https://localhost:8080/"
        },
        "outputId": "032226d9-673d-48a0-9395-eb6f6daa0f29"
      },
      "execution_count": null,
      "outputs": [
        {
          "output_type": "execute_result",
          "data": {
            "text/plain": [
              "[4, 3]"
            ]
          },
          "metadata": {},
          "execution_count": 21
        }
      ]
    },
    {
      "cell_type": "markdown",
      "source": [
        "# 벡터화 연산 성능 측정"
      ],
      "metadata": {
        "id": "TfHOfPc_ORfg"
      }
    },
    {
      "cell_type": "code",
      "source": [
        "import numpy as np\n",
        "import time\n",
        "\n",
        "n = 100000\n",
        "a = np.random.rand(n)\n",
        "b= np.random.rand(n)\n",
        "result = np.zeros(n)\n",
        "\n",
        "#for문사용\n",
        "start = time.time()\n",
        "for i in range(n):\n",
        "  result[i] = a[i] * b[i]\n",
        "end=time.time()\n",
        "print('원소별 접근 소요시간: ',end-start)\n",
        "\n",
        "#벡터화 연산\n",
        "start = time.time()\n",
        "result = a*b\n",
        "end = time.time()\n",
        "print('벡터화연산 소요시간: ',end-start)"
      ],
      "metadata": {
        "colab": {
          "base_uri": "https://localhost:8080/"
        },
        "id": "Uz1dRZpUY74p",
        "outputId": "a5bc8c90-8022-4604-d6a8-f8fb17a21f61"
      },
      "execution_count": null,
      "outputs": [
        {
          "output_type": "stream",
          "name": "stdout",
          "text": [
            "원소별 접근 소요시간:  0.04518699645996094\n",
            "벡터화연산 소요시간:  0.0009520053863525391\n"
          ]
        }
      ]
    },
    {
      "cell_type": "code",
      "source": [
        "#리덕션(다차원배열)\n",
        "import numpy as np\n",
        "import time\n",
        "\n",
        "n = 1000\n",
        "a = np.random.rand(n,n)\n",
        "sum =0\n",
        "start = time.time()\n",
        "\n",
        "#for문\n",
        "for i in range(n):\n",
        "  for j in range(n):\n",
        "    sum += a[i,j]\n",
        "end=time.time()\n",
        "print(n,'x',n, '배열 원소 합=',sum, '\\n계산시간: ',end-start)\n",
        "\n",
        "#벡터화 연산\n",
        "start = time.time()\n",
        "sum1 = np.sum(a,axis=(0,1))\n",
        "end=time.time()\n",
        "print(n,'x',n, '배열 원소 합=',sum1, '\\n계산시간: ',end-start)\n"
      ],
      "metadata": {
        "colab": {
          "base_uri": "https://localhost:8080/"
        },
        "id": "ZQp_gvo8ZxD0",
        "outputId": "523d0afb-790d-4bc4-ff9a-e9d319e26e6a"
      },
      "execution_count": null,
      "outputs": [
        {
          "output_type": "stream",
          "name": "stdout",
          "text": [
            "1000 x 1000 배열 원소 합= 500056.7657628467 \n",
            "계산시간:  0.2679779529571533\n",
            "1000 x 1000 배열 원소 합= 500056.76576284936 \n",
            "계산시간:  0.0030972957611083984\n"
          ]
        }
      ]
    }
  ]
}